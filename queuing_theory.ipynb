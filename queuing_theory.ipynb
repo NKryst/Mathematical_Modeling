{
 "cells": [
  {
   "cell_type": "code",
   "execution_count": null,
   "metadata": {},
   "outputs": [],
   "source": [
    "import numpy as np\n",
    "import pandas as pd\n"
   ]
  },
  {
   "cell_type": "code",
   "execution_count": 1,
   "metadata": {},
   "outputs": [],
   "source": [
    "class Bank_Simulation:\n",
    "    def __init__(self): \n",
    "        self.clock=0.0                      #simulation clock\n",
    "        self.num_arrivals=0                 #total number of arrivals\n",
    "        self.t_arrival=self.gen_int_arr()   #time of next arrival\n",
    "        self.t_departure1=float('inf')      #departure time from server 1\n",
    "        self.t_departure2=float('inf')      #departure time from server 2\n",
    "        self.dep_sum1=0                     #Sum of service times by teller 1\n",
    "        self.dep_sum2=0                     #Sum of service times by teller 2\n",
    "        self.state_T1=0                     #current state of server1 (binary)\n",
    "        self.state_T2=0                     #current state of server2 (binary)\n",
    "        self.total_wait_time=0.0            #total wait time\n",
    "        self.num_in_q=0                     #current number in queue\n",
    "        self.number_in_queue=0              #customers who had to wait in line(counter)\n",
    "        self.num_of_departures1=0           #number of customers served by teller 1  \n",
    "        self.num_of_departures2=0           #number of customers served by teller 2 \n",
    "        self.lost_customers=0               #customers who left without service"
   ]
  },
  {
   "cell_type": "code",
   "execution_count": 2,
   "metadata": {},
   "outputs": [],
   "source": [
    "def time_adv(self):\n",
    "    t_next_event = min(self.t_arrival, self.t_departure1, self.t_departure2)\n",
    "     self.total_wait_time += (self.num_in_q*(t_next_event-self.clock))\n",
    "      self.clock = t_next_event\n",
    "\n",
    "       if self.t_arrival < self.t_departure1 and self.t_arrival < self.t_departure2:\n",
    "            self.arrival()\n",
    "        elif self.t_departure1 < self.t_arrival and self.t_departure1 < self.t_departure2:\n",
    "            self.teller1()\n",
    "        else:\n",
    "            self.teller2()\n"
   ]
  },
  {
   "cell_type": "code",
   "execution_count": 3,
   "metadata": {},
   "outputs": [],
   "source": [
    "def arrival(self):\n",
    "     self.num_arrivals += 1\n",
    "      self.num_in_system += 1\n",
    "\n",
    "       if self.num_in_q == 0:  # schedule next departure or arrival depending on state of servers\n",
    "            if self.state_T1 == 1 and self.state_T2 == 1:\n",
    "                self.num_in_q += 1\n",
    "                self.number_in_queue += 1\n",
    "                self.t_arrival = self.clock+self.gen_int_arr()\n",
    "\n",
    "            elif self.state_T1 == 0 and self.state_T2 == 0:\n",
    "\n",
    "                if np.random.choice([0, 1]) == 1:\n",
    "                    self.state_T1 = 1\n",
    "                    self.dep1 = self.gen_service_time_teller1()\n",
    "                    self.dep_sum1 += self.dep1\n",
    "                    self.t_departure1 = self.clock + self.dep1\n",
    "                    self.t_arrival = self.clock+self.gen_int_arr()\n",
    "\n",
    "                else:\n",
    "                    self.state_T2 = 1\n",
    "                    self.dep2 = self.gen_service_time_teller2()\n",
    "                    self.dep_sum2 += self.dep2\n",
    "                    self.t_departure2 = self.clock + self.dep2\n",
    "                    self.t_arrival = self.clock+self.gen_int_arr()\n",
    "\n",
    "            elif self.state_T1 == 0 and self.state_T2 == 1:  # if server 2 is busy customer goes to server 1\n",
    "                self.dep1 = self.gen_service_time_teller1()\n",
    "                self.dep_sum1 += self.dep1\n",
    "                self.t_departure1 = self.clock + self.dep1\n",
    "                self.t_arrival = self.clock+self.gen_int_arr()\n",
    "                self.state_T1 = 1\n",
    "            else:  # otherwise customer goes to server 2\n",
    "                self.dep2 = self.gen_service_time_teller2()\n",
    "                self.dep_sum2 += self.dep2\n",
    "                self.t_departure2 = self.clock + self.dep2\n",
    "                self.t_arrival = self.clock+self.gen_int_arr()\n",
    "                self.state_T2 = 1\n",
    "\n",
    "        # if queue length is less than 4 generate next arrival and make customer join queue\n",
    "        elif self.num_in_q < 4 and self.num_in_q >= 1:\n",
    "            self.num_in_q += 1\n",
    "            self.number_in_queue += 1\n",
    "            self.t_arrival = self.clock + self.gen_int_arr()\n",
    "\n",
    "        elif self.num_in_q == 4:  # if queue length is 4 equal prob to leave or stay\n",
    "            if np.random.choice([0, 1]) == 0: \n",
    "                self.num_in_q += 1\n",
    "                self.number_in_queue += 1\n",
    "                self.t_arrival = self.clock + self.gen_int_arr()\n",
    "            else:\n",
    "                self.lost_customers += 1\n",
    "\n",
    "        elif self.num_in_q >= 5:  # if queue length is more than 5 60% chance of leaving\n",
    "            if np.random.choice([0, 1],p=[0.4,0.6]) == 0:\n",
    "                self.t_arrival = self.clock+self.gen_int_arr()\n",
    "                self.num_in_q += 1\n",
    "                self.number_in_queue += 1\n",
    "            else:\n",
    "                self.lost_customers += 1\n"
   ]
  },
  {
   "cell_type": "code",
   "execution_count": 6,
   "metadata": {},
   "outputs": [],
   "source": [
    "def teller1(self):  # departure from server 2\n",
    "        self.num_of_departures1 += 1\n",
    "        if self.num_in_q > 0:\n",
    "            self.dep1 = self.gen_service_time_teller1()\n",
    "            self.dep_sum1 += self.dep1\n",
    "            self.t_departure1 = self.clock + self.dep1\n",
    "            self.num_in_q -= 1\n",
    "        else:\n",
    "            self.t_departure1 = float('inf')\n",
    "            self.state_T1 = 0\n",
    "\n",
    "def teller2(self):                #departure from server 1\n",
    "    self.num_of_departures2 += 1\n",
    "    if self.num_in_q>0:\n",
    "            self.dep2= self.gen_service_time_teller2()\n",
    "            self.dep_sum2 += self.dep2\n",
    "            self.t_departure2=self.clock + self.dep2\n",
    "            self.num_in_q-=1\n",
    "    else:\n",
    "            self.t_departure2=float('inf')\n",
    "            self.state_T2=0\n"
   ]
  },
  {
   "cell_type": "code",
   "execution_count": 9,
   "metadata": {},
   "outputs": [],
   "source": [
    "def gen_int_arr(self):                                             #function to generate arrival times using inverse trnasform\n",
    "        return (-np.log(1-(np.random.uniform(low=0.0,high=1.0))) * 3)\n",
    "    \n",
    "def gen_service_time_teller1(self):                                #function to generate service time for teller 1 using inverse trnasform\n",
    "        return (-np.log(1-(np.random.uniform(low=0.0,high=1.0))) * 1.2)\n",
    "    \n",
    "def gen_service_time_teller2(self):                                #function to generate service time for teller 1 using inverse trnasform\n",
    "        return (-np.log(1-(np.random.uniform(low=0.0,high=1.0))) * 1.5)"
   ]
  },
  {
   "cell_type": "code",
   "execution_count": 10,
   "metadata": {},
   "outputs": [
    {
     "ename": "AttributeError",
     "evalue": "'Bank_Simulation' object has no attribute 'gen_int_arr'",
     "output_type": "error",
     "traceback": [
      "\u001b[1;31m---------------------------------------------------------------------------\u001b[0m",
      "\u001b[1;31mAttributeError\u001b[0m                            Traceback (most recent call last)",
      "\u001b[1;32mc:\\Users\\nickr\\OneDrive\\Υπολογιστής\\Repositories\\Mathematical_Modeling\\queuing_theory.ipynb Cell 7\u001b[0m in \u001b[0;36m<cell line: 1>\u001b[1;34m()\u001b[0m\n\u001b[1;32m----> <a href='vscode-notebook-cell:/c%3A/Users/nickr/OneDrive/%CE%A5%CF%80%CE%BF%CE%BB%CE%BF%CE%B3%CE%B9%CF%83%CF%84%CE%AE%CF%82/Repositories/Mathematical_Modeling/queuing_theory.ipynb#W6sZmlsZQ%3D%3D?line=0'>1</a>\u001b[0m s\u001b[39m=\u001b[39mBank_Simulation()\n\u001b[0;32m      <a href='vscode-notebook-cell:/c%3A/Users/nickr/OneDrive/%CE%A5%CF%80%CE%BF%CE%BB%CE%BF%CE%B3%CE%B9%CF%83%CF%84%CE%AE%CF%82/Repositories/Mathematical_Modeling/queuing_theory.ipynb#W6sZmlsZQ%3D%3D?line=1'>2</a>\u001b[0m df\u001b[39m=\u001b[39mpd\u001b[39m.\u001b[39mDataFrame(columns\u001b[39m=\u001b[39m[\u001b[39m'\u001b[39m\u001b[39mAverage interarrival time\u001b[39m\u001b[39m'\u001b[39m,\u001b[39m'\u001b[39m\u001b[39mAverage service time teller1\u001b[39m\u001b[39m'\u001b[39m,\u001b[39m'\u001b[39m\u001b[39mAverage service time teller 2\u001b[39m\u001b[39m'\u001b[39m,\u001b[39m'\u001b[39m\u001b[39mUtilization teller 1\u001b[39m\u001b[39m'\u001b[39m,\u001b[39m'\u001b[39m\u001b[39mUtilization teller 2\u001b[39m\u001b[39m'\u001b[39m,\u001b[39m'\u001b[39m\u001b[39mPeople who had to wait in line\u001b[39m\u001b[39m'\u001b[39m,\u001b[39m'\u001b[39m\u001b[39mTotal average wait time\u001b[39m\u001b[39m'\u001b[39m,\u001b[39m'\u001b[39m\u001b[39mLost Customers\u001b[39m\u001b[39m'\u001b[39m])\n\u001b[0;32m      <a href='vscode-notebook-cell:/c%3A/Users/nickr/OneDrive/%CE%A5%CF%80%CE%BF%CE%BB%CE%BF%CE%B3%CE%B9%CF%83%CF%84%CE%AE%CF%82/Repositories/Mathematical_Modeling/queuing_theory.ipynb#W6sZmlsZQ%3D%3D?line=4'>5</a>\u001b[0m \u001b[39mfor\u001b[39;00m i \u001b[39min\u001b[39;00m \u001b[39mrange\u001b[39m(\u001b[39m100\u001b[39m):\n",
      "\u001b[1;32mc:\\Users\\nickr\\OneDrive\\Υπολογιστής\\Repositories\\Mathematical_Modeling\\queuing_theory.ipynb Cell 7\u001b[0m in \u001b[0;36mBank_Simulation.__init__\u001b[1;34m(self)\u001b[0m\n\u001b[0;32m      <a href='vscode-notebook-cell:/c%3A/Users/nickr/OneDrive/%CE%A5%CF%80%CE%BF%CE%BB%CE%BF%CE%B3%CE%B9%CF%83%CF%84%CE%AE%CF%82/Repositories/Mathematical_Modeling/queuing_theory.ipynb#W6sZmlsZQ%3D%3D?line=2'>3</a>\u001b[0m \u001b[39mself\u001b[39m\u001b[39m.\u001b[39mclock\u001b[39m=\u001b[39m\u001b[39m0.0\u001b[39m                      \u001b[39m#simulation clock\u001b[39;00m\n\u001b[0;32m      <a href='vscode-notebook-cell:/c%3A/Users/nickr/OneDrive/%CE%A5%CF%80%CE%BF%CE%BB%CE%BF%CE%B3%CE%B9%CF%83%CF%84%CE%AE%CF%82/Repositories/Mathematical_Modeling/queuing_theory.ipynb#W6sZmlsZQ%3D%3D?line=3'>4</a>\u001b[0m \u001b[39mself\u001b[39m\u001b[39m.\u001b[39mnum_arrivals\u001b[39m=\u001b[39m\u001b[39m0\u001b[39m                 \u001b[39m#total number of arrivals\u001b[39;00m\n\u001b[1;32m----> <a href='vscode-notebook-cell:/c%3A/Users/nickr/OneDrive/%CE%A5%CF%80%CE%BF%CE%BB%CE%BF%CE%B3%CE%B9%CF%83%CF%84%CE%AE%CF%82/Repositories/Mathematical_Modeling/queuing_theory.ipynb#W6sZmlsZQ%3D%3D?line=4'>5</a>\u001b[0m \u001b[39mself\u001b[39m\u001b[39m.\u001b[39mt_arrival\u001b[39m=\u001b[39m\u001b[39mself\u001b[39;49m\u001b[39m.\u001b[39;49mgen_int_arr()   \u001b[39m#time of next arrival\u001b[39;00m\n\u001b[0;32m      <a href='vscode-notebook-cell:/c%3A/Users/nickr/OneDrive/%CE%A5%CF%80%CE%BF%CE%BB%CE%BF%CE%B3%CE%B9%CF%83%CF%84%CE%AE%CF%82/Repositories/Mathematical_Modeling/queuing_theory.ipynb#W6sZmlsZQ%3D%3D?line=5'>6</a>\u001b[0m \u001b[39mself\u001b[39m\u001b[39m.\u001b[39mt_departure1\u001b[39m=\u001b[39m\u001b[39mfloat\u001b[39m(\u001b[39m'\u001b[39m\u001b[39minf\u001b[39m\u001b[39m'\u001b[39m)      \u001b[39m#departure time from server 1\u001b[39;00m\n\u001b[0;32m      <a href='vscode-notebook-cell:/c%3A/Users/nickr/OneDrive/%CE%A5%CF%80%CE%BF%CE%BB%CE%BF%CE%B3%CE%B9%CF%83%CF%84%CE%AE%CF%82/Repositories/Mathematical_Modeling/queuing_theory.ipynb#W6sZmlsZQ%3D%3D?line=6'>7</a>\u001b[0m \u001b[39mself\u001b[39m\u001b[39m.\u001b[39mt_departure2\u001b[39m=\u001b[39m\u001b[39mfloat\u001b[39m(\u001b[39m'\u001b[39m\u001b[39minf\u001b[39m\u001b[39m'\u001b[39m)      \u001b[39m#departure time from server 2\u001b[39;00m\n",
      "\u001b[1;31mAttributeError\u001b[0m: 'Bank_Simulation' object has no attribute 'gen_int_arr'"
     ]
    }
   ],
   "source": [
    "s = Bank_Simulation()\n",
    "df = pd.DataFrame(columns=['Average interarrival time', 'Average service time teller1', 'Average service time teller 2',\n",
    "                  'Utilization teller 1', 'Utilization teller 2', 'People who had to wait in line', 'Total average wait time', 'Lost Customers'])\n",
    "\n",
    "\n",
    "for i in range(100):\n",
    "    np.random.seed(i)\n",
    "    s.__init__()\n",
    "    while s.clock <= 240:\n",
    "        s.time_adv()\n",
    "    a = pd.Series([s.clock/s.num_arrivals, s.dep_sum1/s.num_of_departures1, s.dep_sum2/s.num_of_departures2, s.dep_sum1 /\n",
    "                  s.clock, s.dep_sum2/s.clock, s.number_in_queue, s.total_wait_time, s.lost_customers], index=df.columns)\n",
    "    df = df.append(a, ignore_index=True)\n",
    "\n",
    "df.to_excel('results.xlsx')\n"
   ]
  }
 ],
 "metadata": {
  "kernelspec": {
   "display_name": "base",
   "language": "python",
   "name": "python3"
  },
  "language_info": {
   "codemirror_mode": {
    "name": "ipython",
    "version": 3
   },
   "file_extension": ".py",
   "mimetype": "text/x-python",
   "name": "python",
   "nbconvert_exporter": "python",
   "pygments_lexer": "ipython3",
   "version": "3.8.13"
  },
  "orig_nbformat": 4
 },
 "nbformat": 4,
 "nbformat_minor": 2
}
